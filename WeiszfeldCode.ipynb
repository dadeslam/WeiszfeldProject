{
  "nbformat": 4,
  "nbformat_minor": 0,
  "metadata": {
    "colab": {
      "name": "WeiszfeldCode.ipynb",
      "provenance": []
    },
    "kernelspec": {
      "name": "python3",
      "display_name": "Python 3"
    },
    "language_info": {
      "name": "python"
    }
  },
  "cells": [
    {
      "cell_type": "code",
      "metadata": {
        "id": "uw6PuVGzI6fq"
      },
      "source": [
        "from scipy.spatial import ConvexHull, convex_hull_plot_2d\n",
        "from time import process_time\n",
        "import numpy as np\n",
        "import matplotlib.pyplot as plt"
      ],
      "execution_count": null,
      "outputs": []
    },
    {
      "cell_type": "markdown",
      "metadata": {
        "id": "-kEHw3XiJA-Y"
      },
      "source": [
        "Initialization of weights and locations."
      ]
    },
    {
      "cell_type": "code",
      "metadata": {
        "id": "Fgc0vdRnyB5u"
      },
      "source": [
        "P = 20 #number of points\n",
        "points = np.random.rand(P, 2)   # P random points in 2-D\n",
        "#points = np.array([[20.,0.],[59.,0],[-20.,-48.],[-20.,48.]])\n",
        "#points = np.array([[0.,-1.],[0.,1.],[-1.,0.],[1.,0.]])         #Test example task 4\n",
        "#P=len(points)\n",
        "hull = ConvexHull(points)\n",
        "\n",
        "#Definition of the weights\n",
        "#weights = np.random.rand(P)\n",
        "weights = np.ones(P)\n",
        "#weights = np.array([5.,5.,13.,13.])"
      ],
      "execution_count": null,
      "outputs": []
    },
    {
      "cell_type": "code",
      "metadata": {
        "id": "EL4Hw1MlyFkq",
        "colab": {
          "base_uri": "https://localhost:8080/",
          "height": 281
        },
        "outputId": "eb1ee4fe-2e05-4ec5-ee8a-31f0a1909126"
      },
      "source": [
        "plt.plot(points[:,0], points[:,1], 'o')\n",
        "vv = np.append(hull.vertices,hull.vertices[0])\n",
        "plt.plot(points[vv,0],points[vv,1],'r-')\n",
        "plt.title(\"Distribution of the randomly generated points\")\n",
        "plt.show()"
      ],
      "execution_count": null,
      "outputs": [
        {
          "output_type": "display_data",
          "data": {
            "image/png": "[encoded data removed]",
            "text/plain": [
              "<Figure size 432x288 with 1 Axes>"
            ]
          },
          "metadata": {
            "tags": [],
            "needs_background": "light"
          }
        }
      ]
    },
    {
      "cell_type": "markdown",
      "metadata": {
        "id": "7XCGAQimLCG1"
      },
      "source": [
        "Definition of all the funcions called in the main code."
      ]
    },
    {
      "cell_type": "code",
      "metadata": {
        "id": "B7z4gNJIyspD"
      },
      "source": [
        "vv = hull.vertices\n",
        "#Function to compute the sigma(x) for the stopping criterion\n",
        "def distanceHull(p):\n",
        "  m = 0\n",
        "  for i in vv:\n",
        "    if np.linalg.norm(p-points[i,:],2)>m:\n",
        "      m = np.linalg.norm(p-points[i,:])\n",
        "  return m"
      ],
      "execution_count": null,
      "outputs": []
    },
    {
      "cell_type": "code",
      "metadata": {
        "id": "BLcKw21D1W5U"
      },
      "source": [
        "#Function for the iteration\n",
        "\n",
        "#This function computes the weights w_i / d2(ai,p)\n",
        "def scaledWeights(p):\n",
        "  scaled = np.zeros(P)\n",
        "  for i in range(P):\n",
        "    scaled[i]=weights[i]/np.linalg.norm(points[i,:]-p)\n",
        "  return scaled\n",
        "\n",
        "def scaledWeightsNotK(p,k):\n",
        "  scaled = np.zeros(P)\n",
        "  for i in range(P):\n",
        "    if i!=k:\n",
        "      scaled[i]=weights[i]/np.linalg.norm(points[i,:]-p)\n",
        "\n",
        "  return scaled #the kth component will not be used and it is simply set to 0\n",
        "\n",
        "#Function for the fixed point iteration\n",
        "def T(p):\n",
        "  res = 0\n",
        "  scaled = scaledWeights(p)\n",
        "  for i in range(P):\n",
        "    res += scaled[i]*points[i,:]\n",
        "  return res/sum(scaled)\n",
        "\n",
        "#Objective function\n",
        "def F(p):\n",
        "  res = 0\n",
        "  for i in range(P):\n",
        "    res += weights[i] * np.linalg.norm(p-points[i,:])\n",
        "  return res\n",
        "\n",
        "#Gradient of the objective function\n",
        "def gradF(p):\n",
        "  res = np.array([0.,0.])\n",
        "  scaled = scaledWeights(p)\n",
        "  for i in range(P):\n",
        "    res+=scaled[i]*(p-points[i,:])\n",
        "  return res"
      ],
      "execution_count": null,
      "outputs": []
    },
    {
      "cell_type": "markdown",
      "metadata": {
        "id": "65rjCc46Lz2H"
      },
      "source": [
        "Checking of optimality in the set of locations $A_q$"
      ]
    },
    {
      "cell_type": "code",
      "metadata": {
        "id": "zAvQAhah3Omo"
      },
      "source": [
        "#Check for optimality of the location points[k,:]\n",
        "def checkOptimality(k):\n",
        "  dist1 = 0\n",
        "  dist2 = 0\n",
        "  scaled = scaledWeightsNotK(points[k,:],k)\n",
        "  for i in range(P):\n",
        "    if i!=k:\n",
        "      dist1+= scaled[i]*(points[k,0]-points[i,0])\n",
        "      dist2+= scaled[i]*(points[k,1]-points[i,1])\n",
        "  res = np.sqrt(dist1**2+dist2**2)\n",
        "  return res<=weights[k]"
      ],
      "execution_count": null,
      "outputs": []
    },
    {
      "cell_type": "markdown",
      "metadata": {
        "id": "iSDwpNxBRBsD"
      },
      "source": [
        "Weiszfeld Algorithm"
      ]
    },
    {
      "cell_type": "code",
      "metadata": {
        "id": "2pxmdq2g59Ba"
      },
      "source": [
        "#Weiszfeld algorithm\n",
        "cc = False #true if the solution is on a location\n",
        "\n",
        "#Check if the minimizer is in the set of given locations\n",
        "for i in range(P):\n",
        "  if checkOptimality(i) and not cc:\n",
        "    cc = True\n",
        "    sol = points[i,:]"
      ],
      "execution_count": null,
      "outputs": []
    },
    {
      "cell_type": "code",
      "metadata": {
        "colab": {
          "base_uri": "https://localhost:8080/",
          "height": 333
        },
        "id": "r_5BRc8WEcQ8",
        "outputId": "07892c47-f8ce-413e-b925-165f69a7e90b"
      },
      "source": [
        "#Weiszfeld Iterations\n",
        "tol = 1e-6\n",
        "valueOfF = []\n",
        "sol_w_it=[]\n",
        "\n",
        "residuiW = []\n",
        "\n",
        "if not cc:\n",
        "  res = tol+1\n",
        "  it = 1\n",
        "  maxit = 1000\n",
        "  #sol = np.array([44.,0.])\n",
        "  sol = np.array([0.,0.])\n",
        "  for i in range(P):\n",
        "    sol += weights[i]*points[i,:]\n",
        "  sol = sol/sum(weights) #initialization as gravitational center\n",
        "  sol_w_it.append(sol)\n",
        "  valueOfF.append(F(sol))\n",
        "  t_1 = process_time()\n",
        "  while res > tol and it<maxit:\n",
        "    sol = T(sol) #fixed point iteration\n",
        "    #sol_w_it.append(sol)\n",
        "    #print(sol)\n",
        "\n",
        "    test = False\n",
        "    for PP in points:\n",
        "      if np.linalg.norm(sol - PP)==0 and not test:\n",
        "        test = True\n",
        "    \n",
        "    if not test:\n",
        "      sol_w_it.append(sol)\n",
        "      sigma = distanceHull(sol)\n",
        "      grad = np.linalg.norm(gradF(sol),2)\n",
        "      valueOfF.append(F(sol))\n",
        "      w = F(sol)\n",
        "\n",
        "      res = sigma*grad/(w-sigma*grad)\n",
        "      residuiW.append(res)\n",
        "      #res=grad\n",
        "\n",
        "      it += 1\n",
        "    else:\n",
        "      it = 1\n",
        "      sol = np.random.rand(2)\n",
        "      residuiW = []\n",
        "      sol_it = [sol]\n",
        "\n",
        "  t_2 = process_time()\n",
        "  plt.plot(np.arange(it),valueOfF,'r-*')\n",
        "  plt.title(\"Decay of the weighted sum\")\n",
        "  plt.show() \n",
        "\n",
        "  print(\"Computation time:\", t_2-t_1)\n",
        "  print(it)\n",
        "  print(sol)\n",
        "\n",
        "sol_w=sol"
      ],
      "execution_count": null,
      "outputs": [
        {
          "output_type": "display_data",
          "data": {
            "image/png": "[encoded data removed]",
            "text/plain": [
              "<Figure size 432x288 with 1 Axes>"
            ]
          },
          "metadata": {
            "tags": [],
            "needs_background": "light"
          }
        },
        {
          "output_type": "stream",
          "text": [
            "Computation time: 0.01651766900000018\n",
            "18\n",
            "[0.51944701 0.54396676]\n"
          ],
          "name": "stdout"
        }
      ]
    },
    {
      "cell_type": "markdown",
      "metadata": {
        "id": "y5JSscrqUL2y"
      },
      "source": [
        "Gradient discent with backtracking"
      ]
    },
    {
      "cell_type": "code",
      "metadata": {
        "colab": {
          "base_uri": "https://localhost:8080/",
          "height": 333
        },
        "id": "H68u_4xGq9og",
        "outputId": "33c7dcb1-a5f6-4d9f-8202-e07ac2cace99"
      },
      "source": [
        "#Backtracking\n",
        "def a(sol):\n",
        "  a_0 = 0.8\n",
        "  rho = 0.7\n",
        "  c_1 = 0.02\n",
        "  while F(sol-a_0*gradF(sol))>F(sol)-c_1*a_0*np.linalg.norm(gradF(sol),2)**2:\n",
        "    a_0=rho*a_0\n",
        "    #print(a_0)\n",
        "\n",
        "  return a_0\n",
        "\n",
        "residuiGD = []\n",
        "\n",
        "#Implementation of Gradient Descent\n",
        "tol = 1e-6\n",
        "valueOfF = []\n",
        "sol_it=[]\n",
        "if not cc:\n",
        "  res = tol+1\n",
        "  it = 1\n",
        "  maxit = 1000\n",
        "  #sol = np.array([44.,0.])\n",
        "  sol = np.array([0.,0.])\n",
        "  for i in range(P):\n",
        "    sol += weights[i]*points[i,:]\n",
        "  sol = sol/sum(weights) #initialization as gravitational center\n",
        "  sol_it.append(sol)\n",
        "  valueOfF.append(F(sol))\n",
        "  t_1 = process_time()\n",
        "  while res > tol and it<maxit:\n",
        "    sol =  sol - a(sol)*gradF(sol)\n",
        "    sol_it.append(sol)\n",
        "\n",
        "    sigma = distanceHull(sol)\n",
        "    grad = np.linalg.norm(gradF(sol),2)\n",
        "    valueOfF.append(F(sol))\n",
        "    w = F(sol)\n",
        "\n",
        "    res = sigma*grad/(w-sigma*grad)\n",
        "    residuiGD.append(res)\n",
        "    #res=grad\n",
        "\n",
        "    it += 1\n",
        "\n",
        "  t_2 = process_time()\n",
        "  plt.plot(np.arange(it),valueOfF,'r-*')\n",
        "  plt.title(\"Decay of the weighted sum\")\n",
        "  plt.show() \n",
        "\n",
        "  print(\"Computation time:\", t_2-t_1)\n",
        "  print(it)\n",
        "  print(sol)"
      ],
      "execution_count": null,
      "outputs": [
        {
          "output_type": "display_data",
          "data": {
            "image/png": "[encoded data removed]",
            "text/plain": [
              "<Figure size 432x288 with 1 Axes>"
            ]
          },
          "metadata": {
            "tags": [],
            "needs_background": "light"
          }
        },
        {
          "output_type": "stream",
          "text": [
            "Computation time: 0.19184040800000002\n",
            "19\n",
            "[0.51944687 0.54396686]\n"
          ],
          "name": "stdout"
        }
      ]
    },
    {
      "cell_type": "code",
      "metadata": {
        "colab": {
          "base_uri": "https://localhost:8080/",
          "height": 265
        },
        "id": "jUZr4r_Wgw32",
        "outputId": "92a84655-f832-4136-d565-ea3d51b89675"
      },
      "source": [
        "plt.plot(points[:,0], points[:,1], 'o',label='Locations')\n",
        "vv = np.append(hull.vertices,hull.vertices[0])\n",
        "plt.plot(points[vv,0],points[vv,1],'r-',label='Boundary')\n",
        "plt.plot(sol[0],sol[1],'ro',markersize=13,label='Best location GD')\n",
        "plt.plot(sol_w[0],sol_w[1],'k*',markersize=10,label='Best location W')\n",
        "sol_it=np.array(sol_it)\n",
        "sol_w_it=np.array(sol_w_it)\n",
        "\n",
        "plt.legend()\n",
        "plt.show()"
      ],
      "execution_count": null,
      "outputs": [
        {
          "output_type": "display_data",
          "data": {
            "image/png": "[encoded data removed]",
            "text/plain": [
              "<Figure size 432x288 with 1 Axes>"
            ]
          },
          "metadata": {
            "tags": [],
            "needs_background": "light"
          }
        }
      ]
    }
  ]
}